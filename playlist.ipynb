{
 "cells": [
  {
   "cell_type": "code",
   "execution_count": 1,
   "id": "c6c3ed07-bfbd-4fbc-95e1-107124902616",
   "metadata": {},
   "outputs": [],
   "source": [
    "import spotipy\n",
    "import pandas as pd\n",
    "import webbrowser\n",
    "import gazu"
   ]
  },
  {
   "cell_type": "code",
   "execution_count": 2,
   "id": "8abd0edd-f01b-477f-93d1-24f2e76b199f",
   "metadata": {},
   "outputs": [],
   "source": [
    "import urllib.request\n",
    "import spotipy.util as util"
   ]
  },
  {
   "cell_type": "code",
   "execution_count": 3,
   "id": "bcd518db-31e4-4cf6-a8f2-6a78886be1f3",
   "metadata": {},
   "outputs": [],
   "source": [
    "from spotipy.oauth2 import SpotifyClientCredentials\n",
    "import json"
   ]
  },
  {
   "cell_type": "code",
   "execution_count": 4,
   "id": "fe21388e-e651-44e1-8f60-5168ff0a246b",
   "metadata": {},
   "outputs": [],
   "source": [
    "credentials = \"spotify_keys.json\"\n",
    "with open(credentials, \"r\") as keys:\n",
    "    api_tokens = json.load(keys)"
   ]
  },
  {
   "cell_type": "code",
   "execution_count": 5,
   "id": "b503a07b-73da-468f-a676-2e30f9eab848",
   "metadata": {},
   "outputs": [
    {
     "data": {
      "text/plain": [
       "{'username': 'steampop',\n",
       " 'client_id': '94f249f09c6a4dd7ba46840cb0444f69',\n",
       " 'client_secret': 'ae064313ede24189ab4037db1b630278',\n",
       " 'redirect': 'http://google.com/'}"
      ]
     },
     "execution_count": 5,
     "metadata": {},
     "output_type": "execute_result"
    }
   ],
   "source": [
    " api_tokens"
   ]
  },
  {
   "cell_type": "code",
   "execution_count": 6,
   "id": "fc483197-688f-4afb-9165-fba27a5b6248",
   "metadata": {},
   "outputs": [],
   "source": [
    "client_id = api_tokens[\"client_id\"]\n",
    "client_secret = api_tokens[\"client_secret\"]"
   ]
  },
  {
   "cell_type": "code",
   "execution_count": 7,
   "id": "42b563bc-2254-40f3-bce0-1b56a04fd6b4",
   "metadata": {},
   "outputs": [],
   "source": [
    "client_credentials_manager = SpotifyClientCredentials(client_id, client_secret)       "
   ]
  },
  {
   "cell_type": "code",
   "execution_count": 8,
   "id": "c1f9f67e-b0da-4470-bab1-e44b2705fa07",
   "metadata": {},
   "outputs": [],
   "source": [
    "sp = spotipy.Spotify(client_credentials_manager=client_credentials_manager)"
   ]
  },
  {
   "cell_type": "code",
   "execution_count": 9,
   "id": "47f673e4-a178-47c4-9e4b-71b6fc4f9021",
   "metadata": {},
   "outputs": [
    {
     "name": "stdout",
     "output_type": "stream",
     "text": [
      "{'data': [{'id': '1', 'type': 'anime', 'links': {'self': 'https://kitsu.io/api/edge/anime/1'}, 'attributes': {'createdAt': '2013-02-20T16:00:13.609Z', 'updatedAt': '2023-11-29T15:10:04.174Z', 'slug': 'cowboy-bebop', 'synopsis': 'In the year 2071, humanity has colonized several of the planets and moons of the solar system leaving the now uninhabitable surface of planet Earth behind. The Inter Solar System Police attempts to keep peace in the galaxy, aided in part by outlaw bounty hunters, referred to as \"Cowboys\". The ragtag team aboard the spaceship Bebop are two such individuals.\\nMellow and carefree Spike Spiegel is balanced by his boisterous, pragmatic partner Jet Black as the pair makes a living chasing bounties and collecting rewards. Thrown off course by the addition of new members that they meet in their travels—Ein, a genetically engineered, highly intelligent Welsh Corgi; femme fatale Faye Valentine, an enigmatic trickster with memory loss; and the strange computer whiz kid Edward Wong—the crew embarks on thrilling adventures that unravel each member\\'s dark and mysterious past little by little. \\nWell-balanced with high density action and light-hearted comedy, Cowboy Bebop is a space Western classic and an homage to the smooth and improvised music it is named after.\\n\\n(Source: MAL Rewrite)', 'description': 'In the year 2071, humanity has colonized several of the planets and moons of the solar system leaving the now uninhabitable surface of planet Earth behind. The Inter Solar System Police attempts to keep peace in the galaxy, aided in part by outlaw bounty hunters, referred to as \"Cowboys\". The ragtag team aboard the spaceship Bebop are two such individuals.\\nMellow and carefree Spike Spiegel is balanced by his boisterous, pragmatic partner Jet Black as the pair makes a living chasing bounties and collecting rewards. Thrown off course by the addition of new members that they meet in their travels—Ein, a genetically engineered, highly intelligent Welsh Corgi; femme fatale Faye Valentine, an enigmatic trickster with memory loss; and the strange computer whiz kid Edward Wong—the crew embarks on thrilling adventures that unravel each member\\'s dark and mysterious past little by little. \\nWell-balanced with high density action and light-hearted comedy, Cowboy Bebop is a space Western classic and an homage to the smooth and improvised music it is named after.\\n\\n(Source: MAL Rewrite)', 'coverImageTopOffset': 400, 'titles': {'en': 'Cowboy Bebop', 'en_jp': 'Cowboy Bebop', 'ja_jp': 'カウボーイビバップ'}, 'canonicalTitle': 'Cowboy Bebop', 'abbreviatedTitles': ['COWBOY BEBOP'], 'averageRating': '82.22', 'ratingFrequencies': {'2': '4258', '3': '60', '4': '421', '5': '38', '6': '206', '7': '40', '8': '4045', '9': '57', '10': '845', '11': '82', '12': '2518', '13': '163', '14': '8673', '15': '444', '16': '8992', '17': '912', '18': '10928', '19': '835', '20': '36804'}, 'userCount': 155712, 'favoritesCount': 5057, 'startDate': '1998-04-03', 'endDate': '1999-04-24', 'nextRelease': None, 'popularityRank': 42, 'ratingRank': 89, 'ageRating': 'R', 'ageRatingGuide': '17+ (violence & profanity)', 'subtype': 'TV', 'status': 'finished', 'tba': None, 'posterImage': {'tiny': 'https://media.kitsu.io/anime/poster_images/1/tiny.jpg', 'large': 'https://media.kitsu.io/anime/poster_images/1/large.jpg', 'small': 'https://media.kitsu.io/anime/poster_images/1/small.jpg', 'medium': 'https://media.kitsu.io/anime/poster_images/1/medium.jpg', 'original': 'https://media.kitsu.io/anime/poster_images/1/original.jpg', 'meta': {'dimensions': {'tiny': {'width': 110, 'height': 156}, 'large': {'width': 550, 'height': 780}, 'small': {'width': 284, 'height': 402}, 'medium': {'width': 390, 'height': 554}}}}, 'coverImage': {'tiny': 'https://media.kitsu.io/anime/1/cover_image/tiny-1f92cfe65c1b31d8b47e36f025d32b35.jpeg', 'large': 'https://media.kitsu.io/anime/1/cover_image/large-88da0208ac7fdd1a978de8b539008bd8.jpeg', 'small': 'https://media.kitsu.io/anime/1/cover_image/small-33ff2ab0f599bc15ed73856ecd13fe71.jpeg', 'original': 'https://media.kitsu.io/anime/1/cover_image/fb57e5f25616633a41f0f5f1ded938ee.jpeg', 'meta': {'dimensions': {'tiny': {'width': 840, 'height': 200}, 'large': {'width': 3360, 'height': 800}, 'small': {'width': 1680, 'height': 400}}}}, 'episodeCount': 26, 'episodeLength': 25, 'totalLength': 626, 'youtubeVideoId': 'qig4KOK2R2g', 'showType': 'TV', 'nsfw': False}, 'relationships': {'genres': {'links': {'self': 'https://kitsu.io/api/edge/anime/1/relationships/genres', 'related': 'https://kitsu.io/api/edge/anime/1/genres'}}, 'categories': {'links': {'self': 'https://kitsu.io/api/edge/anime/1/relationships/categories', 'related': 'https://kitsu.io/api/edge/anime/1/categories'}}, 'castings': {'links': {'self': 'https://kitsu.io/api/edge/anime/1/relationships/castings', 'related': 'https://kitsu.io/api/edge/anime/1/castings'}}, 'installments': {'links': {'self': 'https://kitsu.io/api/edge/anime/1/relationships/installments', 'related': 'https://kitsu.io/api/edge/anime/1/installments'}}, 'mappings': {'links': {'self': 'https://kitsu.io/api/edge/anime/1/relationships/mappings', 'related': 'https://kitsu.io/api/edge/anime/1/mappings'}}, 'reviews': {'links': {'self': 'https://kitsu.io/api/edge/anime/1/relationships/reviews', 'related': 'https://kitsu.io/api/edge/anime/1/reviews'}}, 'mediaRelationships': {'links': {'self': 'https://kitsu.io/api/edge/anime/1/relationships/media-relationships', 'related': 'https://kitsu.io/api/edge/anime/1/media-relationships'}}, 'characters': {'links': {'self': 'https://kitsu.io/api/edge/anime/1/relationships/characters', 'related': 'https://kitsu.io/api/edge/anime/1/characters'}}, 'staff': {'links': {'self': 'https://kitsu.io/api/edge/anime/1/relationships/staff', 'related': 'https://kitsu.io/api/edge/anime/1/staff'}}, 'productions': {'links': {'self': 'https://kitsu.io/api/edge/anime/1/relationships/productions', 'related': 'https://kitsu.io/api/edge/anime/1/productions'}}, 'quotes': {'links': {'self': 'https://kitsu.io/api/edge/anime/1/relationships/quotes', 'related': 'https://kitsu.io/api/edge/anime/1/quotes'}}, 'episodes': {'links': {'self': 'https://kitsu.io/api/edge/anime/1/relationships/episodes', 'related': 'https://kitsu.io/api/edge/anime/1/episodes'}}, 'streamingLinks': {'links': {'self': 'https://kitsu.io/api/edge/anime/1/relationships/streaming-links', 'related': 'https://kitsu.io/api/edge/anime/1/streaming-links'}}, 'animeProductions': {'links': {'self': 'https://kitsu.io/api/edge/anime/1/relationships/anime-productions', 'related': 'https://kitsu.io/api/edge/anime/1/anime-productions'}}, 'animeCharacters': {'links': {'self': 'https://kitsu.io/api/edge/anime/1/relationships/anime-characters', 'related': 'https://kitsu.io/api/edge/anime/1/anime-characters'}}, 'animeStaff': {'links': {'self': 'https://kitsu.io/api/edge/anime/1/relationships/anime-staff', 'related': 'https://kitsu.io/api/edge/anime/1/anime-staff'}}}}, {'id': '2', 'type': 'anime', 'links': {'self': 'https://kitsu.io/api/edge/anime/2'}, 'attributes': {'createdAt': '2013-02-20T16:00:16.085Z', 'updatedAt': '2023-11-29T12:00:08.037Z', 'slug': 'cowboy-bebop-tengoku-no-tobira', 'synopsis': 'Another day, another bounty—such is the life of the often unlucky crew of the Bebop. However, this routine is interrupted when Faye, who is chasing a fairly worthless target on Mars, witnesses an oil tanker suddenly explode, causing mass hysteria. As casualties mount due to a strange disease spreading through the smoke from the blast, a whopping three hundred million woolong price is placed on the head of the supposed perpetrator.\\nWith lives at stake and a solution to their money problems in sight, the Bebop crew springs into action. Spike, Jet, Faye, and Edward, followed closely by Ein, split up to pursue different leads across Alba City. Through their individual investigations, they discover a cover-up scheme involving a pharmaceutical company, revealing a plot that reaches much further than the ragtag team of bounty hunters could have realized.\\n[Written by MAL Rewrite]', 'description': 'Another day, another bounty—such is the life of the often unlucky crew of the Bebop. However, this routine is interrupted when Faye, who is chasing a fairly worthless target on Mars, witnesses an oil tanker suddenly explode, causing mass hysteria. As casualties mount due to a strange disease spreading through the smoke from the blast, a whopping three hundred million woolong price is placed on the head of the supposed perpetrator.\\nWith lives at stake and a solution to their money problems in sight, the Bebop crew springs into action. Spike, Jet, Faye, and Edward, followed closely by Ein, split up to pursue different leads across Alba City. Through their individual investigations, they discover a cover-up scheme involving a pharmaceutical company, revealing a plot that reaches much further than the ragtag team of bounty hunters could have realized.\\n[Written by MAL Rewrite]', 'coverImageTopOffset': 220, 'titles': {'en': 'Cowboy Bebop: The Movie', 'en_jp': 'Cowboy Bebop: Tengoku no Tobira', 'en_us': \"Cowboy Bebop: Knockin' on Heaven's Door\", 'ja_jp': 'カウボーイビバップ天国の扉'}, 'canonicalTitle': \"Cowboy Bebop: Knockin' on Heaven's Door\", 'abbreviatedTitles': [], 'averageRating': '81.99', 'ratingFrequencies': {'2': '783', '3': '9', '4': '47', '5': '6', '6': '31', '7': '5', '8': '645', '9': '2', '10': '168', '11': '13', '12': '779', '13': '54', '14': '2607', '15': '132', '16': '4289', '17': '285', '18': '3750', '19': '158', '20': '6836'}, 'userCount': 40745, 'favoritesCount': 321, 'startDate': '2001-09-01', 'endDate': '2001-09-01', 'nextRelease': None, 'popularityRank': 346, 'ratingRank': 236, 'ageRating': 'R', 'ageRatingGuide': '17+ (violence & profanity)', 'subtype': 'movie', 'status': 'finished', 'tba': '', 'posterImage': {'tiny': 'https://media.kitsu.io/anime/poster_images/2/tiny.jpg', 'large': 'https://media.kitsu.io/anime/poster_images/2/large.jpg', 'small': 'https://media.kitsu.io/anime/poster_images/2/small.jpg', 'medium': 'https://media.kitsu.io/anime/poster_images/2/medium.jpg', 'original': 'https://media.kitsu.io/anime/poster_images/2/original.jpg', 'meta': {'dimensions': {'tiny': {'width': 110, 'height': 156}, 'large': {'width': 550, 'height': 780}, 'small': {'width': 284, 'height': 402}, 'medium': {'width': 390, 'height': 554}}}}, 'coverImage': {'tiny': 'https://media.kitsu.io/anime/cover_images/2/tiny.jpg', 'large': 'https://media.kitsu.io/anime/cover_images/2/large.jpg', 'small': 'https://media.kitsu.io/anime/cover_images/2/small.jpg', 'original': 'https://media.kitsu.io/anime/cover_images/2/original.png', 'meta': {'dimensions': {'tiny': {'width': 840, 'height': 200}, 'large': {'width': 3360, 'height': 800}, 'small': {'width': 1680, 'height': 400}}}}, 'episodeCount': 1, 'episodeLength': 114, 'totalLength': 114, 'youtubeVideoId': 'hc7IxJ93jtM', 'showType': 'movie', 'nsfw': False}, 'relationships': {'genres': {'links': {'self': 'https://kitsu.io/api/edge/anime/2/relationships/genres', 'related': 'https://kitsu.io/api/edge/anime/2/genres'}}, 'categories': {'links': {'self': 'https://kitsu.io/api/edge/anime/2/relationships/categories', 'related': 'https://kitsu.io/api/edge/anime/2/categories'}}, 'castings': {'links': {'self': 'https://kitsu.io/api/edge/anime/2/relationships/castings', 'related': 'https://kitsu.io/api/edge/anime/2/castings'}}, 'installments': {'links': {'self': 'https://kitsu.io/api/edge/anime/2/relationships/installments', 'related': 'https://kitsu.io/api/edge/anime/2/installments'}}, 'mappings': {'links': {'self': 'https://kitsu.io/api/edge/anime/2/relationships/mappings', 'related': 'https://kitsu.io/api/edge/anime/2/mappings'}}, 'reviews': {'links': {'self': 'https://kitsu.io/api/edge/anime/2/relationships/reviews', 'related': 'https://kitsu.io/api/edge/anime/2/reviews'}}, 'mediaRelationships': {'links': {'self': 'https://kitsu.io/api/edge/anime/2/relationships/media-relationships', 'related': 'https://kitsu.io/api/edge/anime/2/media-relationships'}}, 'characters': {'links': {'self': 'https://kitsu.io/api/edge/anime/2/relationships/characters', 'related': 'https://kitsu.io/api/edge/anime/2/characters'}}, 'staff': {'links': {'self': 'https://kitsu.io/api/edge/anime/2/relationships/staff', 'related': 'https://kitsu.io/api/edge/anime/2/staff'}}, 'productions': {'links': {'self': 'https://kitsu.io/api/edge/anime/2/relationships/productions', 'related': 'https://kitsu.io/api/edge/anime/2/productions'}}, 'quotes': {'links': {'self': 'https://kitsu.io/api/edge/anime/2/relationships/quotes', 'related': 'https://kitsu.io/api/edge/anime/2/quotes'}}, 'episodes': {'links': {'self': 'https://kitsu.io/api/edge/anime/2/relationships/episodes', 'related': 'https://kitsu.io/api/edge/anime/2/episodes'}}, 'streamingLinks': {'links': {'self': 'https://kitsu.io/api/edge/anime/2/relationships/streaming-links', 'related': 'https://kitsu.io/api/edge/anime/2/streaming-links'}}, 'animeProductions': {'links': {'self': 'https://kitsu.io/api/edge/anime/2/relationships/anime-productions', 'related': 'https://kitsu.io/api/edge/anime/2/anime-productions'}}, 'animeCharacters': {'links': {'self': 'https://kitsu.io/api/edge/anime/2/relationships/anime-characters', 'related': 'https://kitsu.io/api/edge/anime/2/anime-characters'}}, 'animeStaff': {'links': {'self': 'https://kitsu.io/api/edge/anime/2/relationships/anime-staff', 'related': 'https://kitsu.io/api/edge/anime/2/anime-staff'}}}}, {'id': '3', 'type': 'anime', 'links': {'self': 'https://kitsu.io/api/edge/anime/3'}, 'attributes': {'createdAt': '2013-02-20T16:00:17.112Z', 'updatedAt': '2023-11-29T12:00:08.037Z', 'slug': 'trigun', 'synopsis': 'Vash the Stampede is the man with a $$60,000,000 bounty on his head. The reason: he\\'s a merciless villain who lays waste to all those that oppose him and flattens entire cities for fun, garnering him the title \"The Humanoid Typhoon.\" He leaves a trail of death and destruction wherever he goes, and anyone can count themselves dead if they so much as make eye contact—or so the rumors say. In actuality, Vash is a huge softie who claims to have never taken a life and avoids violence at all costs.\\nWith his crazy doughnut obsession and buffoonish attitude in tow, Vash traverses the wasteland of the planet Gunsmoke, all the while followed by two insurance agents, Meryl Stryfe and Milly Thompson, who attempt to minimize his impact on the public. But soon, their misadventures evolve into life-or-death situations as a group of legendary assassins are summoned to bring about suffering to the trio. Vash\\'s agonizing past will be unraveled and his morality and principles pushed to the breaking point.\\n[Written by MAL Rewrite]', 'description': 'Vash the Stampede is the man with a $$60,000,000 bounty on his head. The reason: he\\'s a merciless villain who lays waste to all those that oppose him and flattens entire cities for fun, garnering him the title \"The Humanoid Typhoon.\" He leaves a trail of death and destruction wherever he goes, and anyone can count themselves dead if they so much as make eye contact—or so the rumors say. In actuality, Vash is a huge softie who claims to have never taken a life and avoids violence at all costs.\\nWith his crazy doughnut obsession and buffoonish attitude in tow, Vash traverses the wasteland of the planet Gunsmoke, all the while followed by two insurance agents, Meryl Stryfe and Milly Thompson, who attempt to minimize his impact on the public. But soon, their misadventures evolve into life-or-death situations as a group of legendary assassins are summoned to bring about suffering to the trio. Vash\\'s agonizing past will be unraveled and his morality and principles pushed to the breaking point.\\n[Written by MAL Rewrite]', 'coverImageTopOffset': 100, 'titles': {'en': 'Trigun', 'en_jp': 'Trigun', 'ja_jp': 'トライガン'}, 'canonicalTitle': 'Trigun', 'abbreviatedTitles': [], 'averageRating': '81.92', 'ratingFrequencies': {'2': '623', '3': '9', '4': '71', '5': '4', '6': '65', '7': '7', '8': '697', '9': '11', '10': '463', '11': '33', '12': '1325', '13': '90', '14': '4281', '15': '238', '16': '5611', '17': '381', '18': '4386', '19': '158', '20': '8709'}, 'userCount': 58898, 'favoritesCount': 1364, 'startDate': '1998-04-01', 'endDate': '1998-09-30', 'nextRelease': None, 'popularityRank': 206, 'ratingRank': 272, 'ageRating': 'PG', 'ageRatingGuide': 'Teens 13 or older', 'subtype': 'TV', 'status': 'finished', 'tba': None, 'posterImage': {'tiny': 'https://media.kitsu.io/anime/3/poster_image/tiny-1e2fce59abe5033c092234bd857cf8a9.jpeg', 'large': 'https://media.kitsu.io/anime/3/poster_image/large-32a8adb71c80bf616527a1651b92e39f.jpeg', 'small': 'https://media.kitsu.io/anime/3/poster_image/small-8b8e908c4f3dd2ea581b5c93957fba02.jpeg', 'medium': 'https://media.kitsu.io/anime/3/poster_image/medium-9b8787b733e308c11f6922a4a24ca59a.jpeg', 'original': 'https://media.kitsu.io/anime/3/poster_image/d49b13c258b7084769455749ba28d0b4.jpg', 'meta': {'dimensions': {'tiny': {'width': 110, 'height': 156}, 'large': {'width': 550, 'height': 780}, 'small': {'width': 284, 'height': 402}, 'medium': {'width': 390, 'height': 554}}}}, 'coverImage': {'tiny': 'https://media.kitsu.io/anime/3/cover_image/tiny-a28efea51963e6dc411a7cd5a5b390ba.jpeg', 'large': 'https://media.kitsu.io/anime/3/cover_image/large-1148d507a8e6d558df766a6889231acd.jpeg', 'small': 'https://media.kitsu.io/anime/3/cover_image/small-8b5b28a9eb5bc26dce3921b745c22481.jpeg', 'original': 'https://media.kitsu.io/anime/3/cover_image/a241650d05ac62f0022068355263ba54.jpg', 'meta': {'dimensions': {'tiny': {'width': 840, 'height': 200}, 'large': {'width': 3360, 'height': 800}, 'small': {'width': 1680, 'height': 400}}}}, 'episodeCount': 26, 'episodeLength': 24, 'totalLength': 624, 'youtubeVideoId': 'bJVyIXeUznY', 'showType': 'TV', 'nsfw': False}, 'relationships': {'genres': {'links': {'self': 'https://kitsu.io/api/edge/anime/3/relationships/genres', 'related': 'https://kitsu.io/api/edge/anime/3/genres'}}, 'categories': {'links': {'self': 'https://kitsu.io/api/edge/anime/3/relationships/categories', 'related': 'https://kitsu.io/api/edge/anime/3/categories'}}, 'castings': {'links': {'self': 'https://kitsu.io/api/edge/anime/3/relationships/castings', 'related': 'https://kitsu.io/api/edge/anime/3/castings'}}, 'installments': {'links': {'self': 'https://kitsu.io/api/edge/anime/3/relationships/installments', 'related': 'https://kitsu.io/api/edge/anime/3/installments'}}, 'mappings': {'links': {'self': 'https://kitsu.io/api/edge/anime/3/relationships/mappings', 'related': 'https://kitsu.io/api/edge/anime/3/mappings'}}, 'reviews': {'links': {'self': 'https://kitsu.io/api/edge/anime/3/relationships/reviews', 'related': 'https://kitsu.io/api/edge/anime/3/reviews'}}, 'mediaRelationships': {'links': {'self': 'https://kitsu.io/api/edge/anime/3/relationships/media-relationships', 'related': 'https://kitsu.io/api/edge/anime/3/media-relationships'}}, 'characters': {'links': {'self': 'https://kitsu.io/api/edge/anime/3/relationships/characters', 'related': 'https://kitsu.io/api/edge/anime/3/characters'}}, 'staff': {'links': {'self': 'https://kitsu.io/api/edge/anime/3/relationships/staff', 'related': 'https://kitsu.io/api/edge/anime/3/staff'}}, 'productions': {'links': {'self': 'https://kitsu.io/api/edge/anime/3/relationships/productions', 'related': 'https://kitsu.io/api/edge/anime/3/productions'}}, 'quotes': {'links': {'self': 'https://kitsu.io/api/edge/anime/3/relationships/quotes', 'related': 'https://kitsu.io/api/edge/anime/3/quotes'}}, 'episodes': {'links': {'self': 'https://kitsu.io/api/edge/anime/3/relationships/episodes', 'related': 'https://kitsu.io/api/edge/anime/3/episodes'}}, 'streamingLinks': {'links': {'self': 'https://kitsu.io/api/edge/anime/3/relationships/streaming-links', 'related': 'https://kitsu.io/api/edge/anime/3/streaming-links'}}, 'animeProductions': {'links': {'self': 'https://kitsu.io/api/edge/anime/3/relationships/anime-productions', 'related': 'https://kitsu.io/api/edge/anime/3/anime-productions'}}, 'animeCharacters': {'links': {'self': 'https://kitsu.io/api/edge/anime/3/relationships/anime-characters', 'related': 'https://kitsu.io/api/edge/anime/3/anime-characters'}}, 'animeStaff': {'links': {'self': 'https://kitsu.io/api/edge/anime/3/relationships/anime-staff', 'related': 'https://kitsu.io/api/edge/anime/3/anime-staff'}}}}, {'id': '4', 'type': 'anime', 'links': {'self': 'https://kitsu.io/api/edge/anime/4'}, 'attributes': {'createdAt': '2013-02-20T16:00:18.116Z', 'updatedAt': '2023-11-29T13:07:20.440Z', 'slug': 'witch-hunter-robin', 'synopsis': \"Witches are individuals with special powers like ESP, telekinesis, mind control, etc. (not the typical hogwart and newt potions). Robin, a 15-year-old craft user, arrives from Italy to Japan to work for an organization named STN Japan Division (STN-J) as a replacement for one of STN-J's witch hunters who was recently killed. Unlike other divisions of STN, STN-J tries to capture the witches alive in order to learn why and how they became witches in the first place.\\n(Source: ANN)\", 'description': \"Witches are individuals with special powers like ESP, telekinesis, mind control, etc. (not the typical hogwart and newt potions). Robin, a 15-year-old craft user, arrives from Italy to Japan to work for an organization named STN Japan Division (STN-J) as a replacement for one of STN-J's witch hunters who was recently killed. Unlike other divisions of STN, STN-J tries to capture the witches alive in order to learn why and how they became witches in the first place.\\n(Source: ANN)\", 'coverImageTopOffset': 230, 'titles': {'en': 'Witch Hunter Robin', 'en_jp': 'Witch Hunter Robin', 'ja_jp': 'ウィッチハンター ロビン'}, 'canonicalTitle': 'Witch Hunter Robin', 'abbreviatedTitles': ['WHR'], 'averageRating': '72.22', 'ratingFrequencies': {'2': '11', '3': '0', '4': '25', '5': '1', '6': '32', '7': '1', '8': '126', '9': '3', '10': '227', '11': '2', '12': '542', '13': '8', '14': '796', '15': '19', '16': '801', '17': '9', '18': '255', '19': '2', '20': '308'}, 'userCount': 9217, 'favoritesCount': 51, 'startDate': '2002-07-02', 'endDate': '2002-12-24', 'nextRelease': None, 'popularityRank': 1678, 'ratingRank': 3572, 'ageRating': 'PG', 'ageRatingGuide': 'Teens 13 or older', 'subtype': 'TV', 'status': 'finished', 'tba': '', 'posterImage': {'tiny': 'https://media.kitsu.io/anime/poster_images/4/tiny.jpg', 'large': 'https://media.kitsu.io/anime/poster_images/4/large.jpg', 'small': 'https://media.kitsu.io/anime/poster_images/4/small.jpg', 'medium': 'https://media.kitsu.io/anime/poster_images/4/medium.jpg', 'original': 'https://media.kitsu.io/anime/poster_images/4/original.jpg', 'meta': {'dimensions': {'tiny': {'width': 110, 'height': 156}, 'large': {'width': 550, 'height': 780}, 'small': {'width': 284, 'height': 402}, 'medium': {'width': 390, 'height': 554}}}}, 'coverImage': {'tiny': 'https://media.kitsu.io/anime/cover_images/4/tiny.jpg', 'large': 'https://media.kitsu.io/anime/cover_images/4/large.jpg', 'small': 'https://media.kitsu.io/anime/cover_images/4/small.jpg', 'original': 'https://media.kitsu.io/anime/cover_images/4/original.jpg', 'meta': {'dimensions': {'tiny': {'width': 840, 'height': 200}, 'large': {'width': 3360, 'height': 800}, 'small': {'width': 1680, 'height': 400}}}}, 'episodeCount': 26, 'episodeLength': 25, 'totalLength': 650, 'youtubeVideoId': '7UkaILjPk8M', 'showType': 'TV', 'nsfw': False}, 'relationships': {'genres': {'links': {'self': 'https://kitsu.io/api/edge/anime/4/relationships/genres', 'related': 'https://kitsu.io/api/edge/anime/4/genres'}}, 'categories': {'links': {'self': 'https://kitsu.io/api/edge/anime/4/relationships/categories', 'related': 'https://kitsu.io/api/edge/anime/4/categories'}}, 'castings': {'links': {'self': 'https://kitsu.io/api/edge/anime/4/relationships/castings', 'related': 'https://kitsu.io/api/edge/anime/4/castings'}}, 'installments': {'links': {'self': 'https://kitsu.io/api/edge/anime/4/relationships/installments', 'related': 'https://kitsu.io/api/edge/anime/4/installments'}}, 'mappings': {'links': {'self': 'https://kitsu.io/api/edge/anime/4/relationships/mappings', 'related': 'https://kitsu.io/api/edge/anime/4/mappings'}}, 'reviews': {'links': {'self': 'https://kitsu.io/api/edge/anime/4/relationships/reviews', 'related': 'https://kitsu.io/api/edge/anime/4/reviews'}}, 'mediaRelationships': {'links': {'self': 'https://kitsu.io/api/edge/anime/4/relationships/media-relationships', 'related': 'https://kitsu.io/api/edge/anime/4/media-relationships'}}, 'characters': {'links': {'self': 'https://kitsu.io/api/edge/anime/4/relationships/characters', 'related': 'https://kitsu.io/api/edge/anime/4/characters'}}, 'staff': {'links': {'self': 'https://kitsu.io/api/edge/anime/4/relationships/staff', 'related': 'https://kitsu.io/api/edge/anime/4/staff'}}, 'productions': {'links': {'self': 'https://kitsu.io/api/edge/anime/4/relationships/productions', 'related': 'https://kitsu.io/api/edge/anime/4/productions'}}, 'quotes': {'links': {'self': 'https://kitsu.io/api/edge/anime/4/relationships/quotes', 'related': 'https://kitsu.io/api/edge/anime/4/quotes'}}, 'episodes': {'links': {'self': 'https://kitsu.io/api/edge/anime/4/relationships/episodes', 'related': 'https://kitsu.io/api/edge/anime/4/episodes'}}, 'streamingLinks': {'links': {'self': 'https://kitsu.io/api/edge/anime/4/relationships/streaming-links', 'related': 'https://kitsu.io/api/edge/anime/4/streaming-links'}}, 'animeProductions': {'links': {'self': 'https://kitsu.io/api/edge/anime/4/relationships/anime-productions', 'related': 'https://kitsu.io/api/edge/anime/4/anime-productions'}}, 'animeCharacters': {'links': {'self': 'https://kitsu.io/api/edge/anime/4/relationships/anime-characters', 'related': 'https://kitsu.io/api/edge/anime/4/anime-characters'}}, 'animeStaff': {'links': {'self': 'https://kitsu.io/api/edge/anime/4/relationships/anime-staff', 'related': 'https://kitsu.io/api/edge/anime/4/anime-staff'}}}}, {'id': '5', 'type': 'anime', 'links': {'self': 'https://kitsu.io/api/edge/anime/5'}, 'attributes': {'createdAt': '2013-02-20T16:00:18.955Z', 'updatedAt': '2023-11-29T12:00:08.037Z', 'slug': 'beet-the-vandel-buster', 'synopsis': \"It is the dark century and the people are suffering under the rule of the devil, Vandel, who is able to manipulate monsters. The Vandel Busters are a group of people who hunt these devils, and among them, the Zenon Squad is known to be the strongest busters on the continent. A young boy, Beet, dreams of joining the Zenon Squad. However, one day, as a result of Beet's fault, the Zenon squad was defeated by the devil, Beltose. The five dying busters sacrificed their life power into their five weapons, Saiga. After giving their weapons to Beet, they passed away. Years have passed since then and the young Vandel Buster, Beet, begins his adventure to carry out the Zenon Squad's will to put an end to the dark century. \", 'description': \"It is the dark century and the people are suffering under the rule of the devil, Vandel, who is able to manipulate monsters. The Vandel Busters are a group of people who hunt these devils, and among them, the Zenon Squad is known to be the strongest busters on the continent. A young boy, Beet, dreams of joining the Zenon Squad. However, one day, as a result of Beet's fault, the Zenon squad was defeated by the devil, Beltose. The five dying busters sacrificed their life power into their five weapons, Saiga. After giving their weapons to Beet, they passed away. Years have passed since then and the young Vandel Buster, Beet, begins his adventure to carry out the Zenon Squad's will to put an end to the dark century. \", 'coverImageTopOffset': 0, 'titles': {'en': 'Beet the Vandel Buster', 'en_jp': 'Beet the Vandel Buster', 'ja_jp': '冒険王ビィト'}, 'canonicalTitle': 'Beet the Vandel Buster', 'abbreviatedTitles': ['Adventure King Beet', 'Bouken Ou Beet'], 'averageRating': '69.45', 'ratingFrequencies': {'2': '3', '3': '0', '4': '9', '5': '1', '6': '7', '7': '0', '8': '25', '9': '0', '10': '40', '11': '1', '12': '73', '13': '2', '14': '117', '15': '1', '16': '79', '17': '0', '18': '29', '19': '0', '20': '34'}, 'userCount': 1256, 'favoritesCount': 5, 'startDate': '2004-09-30', 'endDate': '2005-09-29', 'nextRelease': None, 'popularityRank': 5373, 'ratingRank': 5221, 'ageRating': 'PG', 'ageRatingGuide': 'Children', 'subtype': 'TV', 'status': 'finished', 'tba': '', 'posterImage': {'tiny': 'https://media.kitsu.io/anime/poster_images/5/tiny.jpg', 'large': 'https://media.kitsu.io/anime/poster_images/5/large.jpg', 'small': 'https://media.kitsu.io/anime/poster_images/5/small.jpg', 'medium': 'https://media.kitsu.io/anime/poster_images/5/medium.jpg', 'original': 'https://media.kitsu.io/anime/poster_images/5/original.jpg', 'meta': {'dimensions': {'tiny': {'width': 110, 'height': 156}, 'large': {'width': 550, 'height': 780}, 'small': {'width': 284, 'height': 402}, 'medium': {'width': 390, 'height': 554}}}}, 'coverImage': None, 'episodeCount': 52, 'episodeLength': None, 'totalLength': 23, 'youtubeVideoId': '', 'showType': 'TV', 'nsfw': False}, 'relationships': {'genres': {'links': {'self': 'https://kitsu.io/api/edge/anime/5/relationships/genres', 'related': 'https://kitsu.io/api/edge/anime/5/genres'}}, 'categories': {'links': {'self': 'https://kitsu.io/api/edge/anime/5/relationships/categories', 'related': 'https://kitsu.io/api/edge/anime/5/categories'}}, 'castings': {'links': {'self': 'https://kitsu.io/api/edge/anime/5/relationships/castings', 'related': 'https://kitsu.io/api/edge/anime/5/castings'}}, 'installments': {'links': {'self': 'https://kitsu.io/api/edge/anime/5/relationships/installments', 'related': 'https://kitsu.io/api/edge/anime/5/installments'}}, 'mappings': {'links': {'self': 'https://kitsu.io/api/edge/anime/5/relationships/mappings', 'related': 'https://kitsu.io/api/edge/anime/5/mappings'}}, 'reviews': {'links': {'self': 'https://kitsu.io/api/edge/anime/5/relationships/reviews', 'related': 'https://kitsu.io/api/edge/anime/5/reviews'}}, 'mediaRelationships': {'links': {'self': 'https://kitsu.io/api/edge/anime/5/relationships/media-relationships', 'related': 'https://kitsu.io/api/edge/anime/5/media-relationships'}}, 'characters': {'links': {'self': 'https://kitsu.io/api/edge/anime/5/relationships/characters', 'related': 'https://kitsu.io/api/edge/anime/5/characters'}}, 'staff': {'links': {'self': 'https://kitsu.io/api/edge/anime/5/relationships/staff', 'related': 'https://kitsu.io/api/edge/anime/5/staff'}}, 'productions': {'links': {'self': 'https://kitsu.io/api/edge/anime/5/relationships/productions', 'related': 'https://kitsu.io/api/edge/anime/5/productions'}}, 'quotes': {'links': {'self': 'https://kitsu.io/api/edge/anime/5/relationships/quotes', 'related': 'https://kitsu.io/api/edge/anime/5/quotes'}}, 'episodes': {'links': {'self': 'https://kitsu.io/api/edge/anime/5/relationships/episodes', 'related': 'https://kitsu.io/api/edge/anime/5/episodes'}}, 'streamingLinks': {'links': {'self': 'https://kitsu.io/api/edge/anime/5/relationships/streaming-links', 'related': 'https://kitsu.io/api/edge/anime/5/streaming-links'}}, 'animeProductions': {'links': {'self': 'https://kitsu.io/api/edge/anime/5/relationships/anime-productions', 'related': 'https://kitsu.io/api/edge/anime/5/anime-productions'}}, 'animeCharacters': {'links': {'self': 'https://kitsu.io/api/edge/anime/5/relationships/anime-characters', 'related': 'https://kitsu.io/api/edge/anime/5/anime-characters'}}, 'animeStaff': {'links': {'self': 'https://kitsu.io/api/edge/anime/5/relationships/anime-staff', 'related': 'https://kitsu.io/api/edge/anime/5/anime-staff'}}}}], 'meta': {'count': 19852}, 'links': {'first': 'https://kitsu.io/api/edge/anime?page%5Blimit%5D=5&page%5Boffset%5D=0', 'next': 'https://kitsu.io/api/edge/anime?page%5Blimit%5D=5&page%5Boffset%5D=5', 'last': 'https://kitsu.io/api/edge/anime?page%5Blimit%5D=5&page%5Boffset%5D=19847'}}\n"
     ]
    }
   ],
   "source": [
    "import requests\n",
    "\n",
    "# Define the base URL for the Kitsu API\n",
    "base_url = 'https://kitsu.io/api/edge/anime?page[limit]=5&page[offset]=0'\n",
    "\n",
    "# Example: Make a GET request to fetch anime information\n",
    "anime_id = 1  # Replace with the ID of the anime you want to retrieve\n",
    "anime_endpoint = f'anime/{anime_id}'  # Endpoint for fetching anime details\n",
    "\n",
    "# Make a GET request to retrieve information about a specific anime\n",
    "response = requests.get(f'{base_url}')\n",
    "\n",
    "# Check if the request was successful (status code 200)\n",
    "if response.status_code == 200:\n",
    "    anime_data = response.json()  # Convert response to JSON format\n",
    "    # Process the retrieved anime data as needed\n",
    "    print(anime_data)\n",
    "else:\n",
    "    print(f\"Failed to fetch anime. Status code: {response.status_code}\")"
   ]
  },
  {
   "cell_type": "code",
   "execution_count": 10,
   "id": "f11e815e-4454-410a-bf04-f26adabcb3cf",
   "metadata": {},
   "outputs": [
    {
     "data": {
      "text/plain": [
       "5"
      ]
     },
     "execution_count": 10,
     "metadata": {},
     "output_type": "execute_result"
    }
   ],
   "source": [
    "len(anime_data['data'])"
   ]
  },
  {
   "cell_type": "code",
   "execution_count": 11,
   "id": "c8ff92a6-d80e-4f2c-a5cd-911912e1ae29",
   "metadata": {},
   "outputs": [
    {
     "data": {
      "text/plain": [
       "{'id': '1',\n",
       " 'type': 'anime',\n",
       " 'links': {'self': 'https://kitsu.io/api/edge/anime/1'},\n",
       " 'attributes': {'createdAt': '2013-02-20T16:00:13.609Z',\n",
       "  'updatedAt': '2023-11-29T15:10:04.174Z',\n",
       "  'slug': 'cowboy-bebop',\n",
       "  'synopsis': 'In the year 2071, humanity has colonized several of the planets and moons of the solar system leaving the now uninhabitable surface of planet Earth behind. The Inter Solar System Police attempts to keep peace in the galaxy, aided in part by outlaw bounty hunters, referred to as \"Cowboys\". The ragtag team aboard the spaceship Bebop are two such individuals.\\nMellow and carefree Spike Spiegel is balanced by his boisterous, pragmatic partner Jet Black as the pair makes a living chasing bounties and collecting rewards. Thrown off course by the addition of new members that they meet in their travels—Ein, a genetically engineered, highly intelligent Welsh Corgi; femme fatale Faye Valentine, an enigmatic trickster with memory loss; and the strange computer whiz kid Edward Wong—the crew embarks on thrilling adventures that unravel each member\\'s dark and mysterious past little by little. \\nWell-balanced with high density action and light-hearted comedy, Cowboy Bebop is a space Western classic and an homage to the smooth and improvised music it is named after.\\n\\n(Source: MAL Rewrite)',\n",
       "  'description': 'In the year 2071, humanity has colonized several of the planets and moons of the solar system leaving the now uninhabitable surface of planet Earth behind. The Inter Solar System Police attempts to keep peace in the galaxy, aided in part by outlaw bounty hunters, referred to as \"Cowboys\". The ragtag team aboard the spaceship Bebop are two such individuals.\\nMellow and carefree Spike Spiegel is balanced by his boisterous, pragmatic partner Jet Black as the pair makes a living chasing bounties and collecting rewards. Thrown off course by the addition of new members that they meet in their travels—Ein, a genetically engineered, highly intelligent Welsh Corgi; femme fatale Faye Valentine, an enigmatic trickster with memory loss; and the strange computer whiz kid Edward Wong—the crew embarks on thrilling adventures that unravel each member\\'s dark and mysterious past little by little. \\nWell-balanced with high density action and light-hearted comedy, Cowboy Bebop is a space Western classic and an homage to the smooth and improvised music it is named after.\\n\\n(Source: MAL Rewrite)',\n",
       "  'coverImageTopOffset': 400,\n",
       "  'titles': {'en': 'Cowboy Bebop',\n",
       "   'en_jp': 'Cowboy Bebop',\n",
       "   'ja_jp': 'カウボーイビバップ'},\n",
       "  'canonicalTitle': 'Cowboy Bebop',\n",
       "  'abbreviatedTitles': ['COWBOY BEBOP'],\n",
       "  'averageRating': '82.22',\n",
       "  'ratingFrequencies': {'2': '4258',\n",
       "   '3': '60',\n",
       "   '4': '421',\n",
       "   '5': '38',\n",
       "   '6': '206',\n",
       "   '7': '40',\n",
       "   '8': '4045',\n",
       "   '9': '57',\n",
       "   '10': '845',\n",
       "   '11': '82',\n",
       "   '12': '2518',\n",
       "   '13': '163',\n",
       "   '14': '8673',\n",
       "   '15': '444',\n",
       "   '16': '8992',\n",
       "   '17': '912',\n",
       "   '18': '10928',\n",
       "   '19': '835',\n",
       "   '20': '36804'},\n",
       "  'userCount': 155712,\n",
       "  'favoritesCount': 5057,\n",
       "  'startDate': '1998-04-03',\n",
       "  'endDate': '1999-04-24',\n",
       "  'nextRelease': None,\n",
       "  'popularityRank': 42,\n",
       "  'ratingRank': 89,\n",
       "  'ageRating': 'R',\n",
       "  'ageRatingGuide': '17+ (violence & profanity)',\n",
       "  'subtype': 'TV',\n",
       "  'status': 'finished',\n",
       "  'tba': None,\n",
       "  'posterImage': {'tiny': 'https://media.kitsu.io/anime/poster_images/1/tiny.jpg',\n",
       "   'large': 'https://media.kitsu.io/anime/poster_images/1/large.jpg',\n",
       "   'small': 'https://media.kitsu.io/anime/poster_images/1/small.jpg',\n",
       "   'medium': 'https://media.kitsu.io/anime/poster_images/1/medium.jpg',\n",
       "   'original': 'https://media.kitsu.io/anime/poster_images/1/original.jpg',\n",
       "   'meta': {'dimensions': {'tiny': {'width': 110, 'height': 156},\n",
       "     'large': {'width': 550, 'height': 780},\n",
       "     'small': {'width': 284, 'height': 402},\n",
       "     'medium': {'width': 390, 'height': 554}}}},\n",
       "  'coverImage': {'tiny': 'https://media.kitsu.io/anime/1/cover_image/tiny-1f92cfe65c1b31d8b47e36f025d32b35.jpeg',\n",
       "   'large': 'https://media.kitsu.io/anime/1/cover_image/large-88da0208ac7fdd1a978de8b539008bd8.jpeg',\n",
       "   'small': 'https://media.kitsu.io/anime/1/cover_image/small-33ff2ab0f599bc15ed73856ecd13fe71.jpeg',\n",
       "   'original': 'https://media.kitsu.io/anime/1/cover_image/fb57e5f25616633a41f0f5f1ded938ee.jpeg',\n",
       "   'meta': {'dimensions': {'tiny': {'width': 840, 'height': 200},\n",
       "     'large': {'width': 3360, 'height': 800},\n",
       "     'small': {'width': 1680, 'height': 400}}}},\n",
       "  'episodeCount': 26,\n",
       "  'episodeLength': 25,\n",
       "  'totalLength': 626,\n",
       "  'youtubeVideoId': 'qig4KOK2R2g',\n",
       "  'showType': 'TV',\n",
       "  'nsfw': False},\n",
       " 'relationships': {'genres': {'links': {'self': 'https://kitsu.io/api/edge/anime/1/relationships/genres',\n",
       "    'related': 'https://kitsu.io/api/edge/anime/1/genres'}},\n",
       "  'categories': {'links': {'self': 'https://kitsu.io/api/edge/anime/1/relationships/categories',\n",
       "    'related': 'https://kitsu.io/api/edge/anime/1/categories'}},\n",
       "  'castings': {'links': {'self': 'https://kitsu.io/api/edge/anime/1/relationships/castings',\n",
       "    'related': 'https://kitsu.io/api/edge/anime/1/castings'}},\n",
       "  'installments': {'links': {'self': 'https://kitsu.io/api/edge/anime/1/relationships/installments',\n",
       "    'related': 'https://kitsu.io/api/edge/anime/1/installments'}},\n",
       "  'mappings': {'links': {'self': 'https://kitsu.io/api/edge/anime/1/relationships/mappings',\n",
       "    'related': 'https://kitsu.io/api/edge/anime/1/mappings'}},\n",
       "  'reviews': {'links': {'self': 'https://kitsu.io/api/edge/anime/1/relationships/reviews',\n",
       "    'related': 'https://kitsu.io/api/edge/anime/1/reviews'}},\n",
       "  'mediaRelationships': {'links': {'self': 'https://kitsu.io/api/edge/anime/1/relationships/media-relationships',\n",
       "    'related': 'https://kitsu.io/api/edge/anime/1/media-relationships'}},\n",
       "  'characters': {'links': {'self': 'https://kitsu.io/api/edge/anime/1/relationships/characters',\n",
       "    'related': 'https://kitsu.io/api/edge/anime/1/characters'}},\n",
       "  'staff': {'links': {'self': 'https://kitsu.io/api/edge/anime/1/relationships/staff',\n",
       "    'related': 'https://kitsu.io/api/edge/anime/1/staff'}},\n",
       "  'productions': {'links': {'self': 'https://kitsu.io/api/edge/anime/1/relationships/productions',\n",
       "    'related': 'https://kitsu.io/api/edge/anime/1/productions'}},\n",
       "  'quotes': {'links': {'self': 'https://kitsu.io/api/edge/anime/1/relationships/quotes',\n",
       "    'related': 'https://kitsu.io/api/edge/anime/1/quotes'}},\n",
       "  'episodes': {'links': {'self': 'https://kitsu.io/api/edge/anime/1/relationships/episodes',\n",
       "    'related': 'https://kitsu.io/api/edge/anime/1/episodes'}},\n",
       "  'streamingLinks': {'links': {'self': 'https://kitsu.io/api/edge/anime/1/relationships/streaming-links',\n",
       "    'related': 'https://kitsu.io/api/edge/anime/1/streaming-links'}},\n",
       "  'animeProductions': {'links': {'self': 'https://kitsu.io/api/edge/anime/1/relationships/anime-productions',\n",
       "    'related': 'https://kitsu.io/api/edge/anime/1/anime-productions'}},\n",
       "  'animeCharacters': {'links': {'self': 'https://kitsu.io/api/edge/anime/1/relationships/anime-characters',\n",
       "    'related': 'https://kitsu.io/api/edge/anime/1/anime-characters'}},\n",
       "  'animeStaff': {'links': {'self': 'https://kitsu.io/api/edge/anime/1/relationships/anime-staff',\n",
       "    'related': 'https://kitsu.io/api/edge/anime/1/anime-staff'}}}}"
      ]
     },
     "execution_count": 11,
     "metadata": {},
     "output_type": "execute_result"
    }
   ],
   "source": [
    "anime_data['data'][0]"
   ]
  },
  {
   "cell_type": "code",
   "execution_count": 12,
   "id": "5b4b2d82-1230-42c3-8d10-82330383b325",
   "metadata": {},
   "outputs": [
    {
     "data": {
      "text/plain": [
       "'cowboy-bebop'"
      ]
     },
     "execution_count": 12,
     "metadata": {},
     "output_type": "execute_result"
    }
   ],
   "source": [
    "anime_data['data'][0]['attributes']['slug']"
   ]
  },
  {
   "cell_type": "code",
   "execution_count": 13,
   "id": "7cf25b81-547a-41fe-b4fd-8ddd370c3e3a",
   "metadata": {},
   "outputs": [
    {
     "name": "stdout",
     "output_type": "stream",
     "text": [
      "cowboy-bebop\n",
      "cowboy-bebop-tengoku-no-tobira\n",
      "trigun\n",
      "witch-hunter-robin\n",
      "beet-the-vandel-buster\n"
     ]
    }
   ],
   "source": [
    "len_of_anime = len(anime_data['data'])\n",
    "for i in range(len_of_anime):\n",
    "    print(anime_data['data'][i]['attributes']['slug'])"
   ]
  },
  {
   "cell_type": "code",
   "execution_count": 14,
   "id": "2ed35a89-6d84-4ebc-9af6-0ec586c58b3f",
   "metadata": {
    "scrolled": true
   },
   "outputs": [
    {
     "name": "stdout",
     "output_type": "stream",
     "text": [
      "https://open.spotify.com/track/0lizgQ7Qw35od7CYaoMBZb\n"
     ]
    }
   ],
   "source": [
    "#test\n",
    "name = \"ariana grande\" \n",
    "result = sp.search(name)\n",
    "print(result['tracks']['items'][0]['external_urls']['spotify'])"
   ]
  },
  {
   "cell_type": "code",
   "execution_count": 15,
   "id": "2a864609-3ccc-44c5-a268-b80a1bcfa4b7",
   "metadata": {},
   "outputs": [
    {
     "name": "stdout",
     "output_type": "stream",
     "text": [
      "dict_keys(['collaborative', 'description', 'external_urls', 'followers', 'href', 'id', 'images', 'name', 'owner', 'primary_color', 'public', 'snapshot_id', 'tracks', 'type', 'uri'])\n"
     ]
    }
   ],
   "source": [
    "result = sp.playlist('5G78gthDYxAopN65suV5c3')\n",
    "print(result.keys())"
   ]
  },
  {
   "cell_type": "code",
   "execution_count": 16,
   "id": "85b8b8cd-0601-4291-a3d4-f1c8535c942b",
   "metadata": {},
   "outputs": [
    {
     "name": "stdout",
     "output_type": "stream",
     "text": [
      "{'collaborative': False, 'description': '', 'external_urls': {'spotify': 'https://open.spotify.com/playlist/5G78gthDYxAopN65suV5c3'}, 'followers': {'href': None, 'total': 0}, 'href': 'https://api.spotify.com/v1/playlists/5G78gthDYxAopN65suV5c3?additional_types=track', 'id': '5G78gthDYxAopN65suV5c3', 'images': [{'height': 640, 'url': 'https://mosaic.scdn.co/640/ab67616d0000b2733e28ba1d37cb66c9b2b374ceab67616d0000b2737bc0575044d1f97f87305410ab67616d0000b273dee20518c026b68fa06f8b72ab67616d0000b273f353c2eb0545f7fc7aaf08b8', 'width': 640}, {'height': 300, 'url': 'https://mosaic.scdn.co/300/ab67616d0000b2733e28ba1d37cb66c9b2b374ceab67616d0000b2737bc0575044d1f97f87305410ab67616d0000b273dee20518c026b68fa06f8b72ab67616d0000b273f353c2eb0545f7fc7aaf08b8', 'width': 300}, {'height': 60, 'url': 'https://mosaic.scdn.co/60/ab67616d0000b2733e28ba1d37cb66c9b2b374ceab67616d0000b2737bc0575044d1f97f87305410ab67616d0000b273dee20518c026b68fa06f8b72ab67616d0000b273f353c2eb0545f7fc7aaf08b8', 'width': 60}], 'name': 'Anime Pop', 'owner': {'display_name': 'HAIQI', 'external_urls': {'spotify': 'https://open.spotify.com/user/31eos6jlmxudolkpw2gmo5ztjgjy'}, 'href': 'https://api.spotify.com/v1/users/31eos6jlmxudolkpw2gmo5ztjgjy', 'id': '31eos6jlmxudolkpw2gmo5ztjgjy', 'type': 'user', 'uri': 'spotify:user:31eos6jlmxudolkpw2gmo5ztjgjy'}, 'primary_color': None, 'public': True, 'snapshot_id': 'MTAsNjY3ZWJmZDFlMmRjNjY3YWQwNjBiZGI3YmI1NzMzYTFkN2U2ZjM0ZQ==', 'tracks': {'href': 'https://api.spotify.com/v1/playlists/5G78gthDYxAopN65suV5c3/tracks?offset=0&limit=100&additional_types=track', 'items': [{'added_at': '2023-11-29T05:55:58Z', 'added_by': {'external_urls': {'spotify': 'https://open.spotify.com/user/31eos6jlmxudolkpw2gmo5ztjgjy'}, 'href': 'https://api.spotify.com/v1/users/31eos6jlmxudolkpw2gmo5ztjgjy', 'id': '31eos6jlmxudolkpw2gmo5ztjgjy', 'type': 'user', 'uri': 'spotify:user:31eos6jlmxudolkpw2gmo5ztjgjy'}, 'is_local': False, 'primary_color': None, 'track': {'album': {'album_type': 'album', 'artists': [{'external_urls': {'spotify': 'https://open.spotify.com/artist/3Th9UyipOGp08husDe0Era'}, 'href': 'https://api.spotify.com/v1/artists/3Th9UyipOGp08husDe0Era', 'id': '3Th9UyipOGp08husDe0Era', 'name': 'She Her Her Hers', 'type': 'artist', 'uri': 'spotify:artist:3Th9UyipOGp08husDe0Era'}], 'available_markets': ['AR', 'AU', 'AT', 'BE', 'BO', 'BR', 'BG', 'CA', 'CL', 'CO', 'CR', 'CY', 'CZ', 'DK', 'DO', 'DE', 'EC', 'EE', 'SV', 'FI', 'FR', 'GR', 'GT', 'HN', 'HK', 'HU', 'IS', 'IE', 'IT', 'LV', 'LT', 'LU', 'MY', 'MT', 'MX', 'NL', 'NZ', 'NI', 'NO', 'PA', 'PY', 'PE', 'PH', 'PL', 'PT', 'SG', 'SK', 'ES', 'SE', 'CH', 'TW', 'TR', 'UY', 'US', 'GB', 'AD', 'LI', 'MC', 'ID', 'JP', 'TH', 'VN', 'RO', 'IL', 'ZA', 'SA', 'AE', 'BH', 'QA', 'OM', 'KW', 'EG', 'MA', 'DZ', 'TN', 'LB', 'JO', 'PS', 'IN', 'BY', 'KZ', 'MD', 'UA', 'AL', 'BA', 'HR', 'ME', 'MK', 'RS', 'SI', 'KR', 'BD', 'PK', 'LK', 'GH', 'KE', 'NG', 'TZ', 'UG', 'AG', 'AM', 'BS', 'BB', 'BZ', 'BT', 'BW', 'BF', 'CV', 'CW', 'DM', 'FJ', 'GM', 'GE', 'GD', 'GW', 'GY', 'HT', 'JM', 'KI', 'LS', 'LR', 'MW', 'MV', 'ML', 'MH', 'FM', 'NA', 'NR', 'NE', 'PW', 'PG', 'WS', 'SM', 'ST', 'SN', 'SC', 'SL', 'SB', 'KN', 'LC', 'VC', 'SR', 'TL', 'TO', 'TT', 'TV', 'VU', 'AZ', 'BN', 'BI', 'KH', 'CM', 'TD', 'KM', 'GQ', 'SZ', 'GA', 'GN', 'KG', 'LA', 'MO', 'MR', 'MN', 'NP', 'RW', 'TG', 'UZ', 'ZW', 'BJ', 'MG', 'MU', 'MZ', 'AO', 'CI', 'DJ', 'ZM', 'CD', 'CG', 'IQ', 'LY', 'TJ', 'VE', 'ET', 'XK'], 'external_urls': {'spotify': 'https://open.spotify.com/album/3ajpTrIjSlzQILp3Wqw58x'}, 'href': 'https://api.spotify.com/v1/albums/3ajpTrIjSlzQILp3Wqw58x', 'id': '3ajpTrIjSlzQILp3Wqw58x', 'images': [{'height': 640, 'url': 'https://i.scdn.co/image/ab67616d0000b273dee20518c026b68fa06f8b72', 'width': 640}, {'height': 300, 'url': 'https://i.scdn.co/image/ab67616d00001e02dee20518c026b68fa06f8b72', 'width': 300}, {'height': 64, 'url': 'https://i.scdn.co/image/ab67616d00004851dee20518c026b68fa06f8b72', 'width': 64}], 'name': 'location', 'release_date': '2019-11-13', 'release_date_precision': 'day', 'total_tracks': 11, 'type': 'album', 'uri': 'spotify:album:3ajpTrIjSlzQILp3Wqw58x'}, 'artists': [{'external_urls': {'spotify': 'https://open.spotify.com/artist/3Th9UyipOGp08husDe0Era'}, 'href': 'https://api.spotify.com/v1/artists/3Th9UyipOGp08husDe0Era', 'id': '3Th9UyipOGp08husDe0Era', 'name': 'She Her Her Hers', 'type': 'artist', 'uri': 'spotify:artist:3Th9UyipOGp08husDe0Era'}], 'available_markets': ['AR', 'AU', 'AT', 'BE', 'BO', 'BR', 'BG', 'CA', 'CL', 'CO', 'CR', 'CY', 'CZ', 'DK', 'DO', 'DE', 'EC', 'EE', 'SV', 'FI', 'FR', 'GR', 'GT', 'HN', 'HK', 'HU', 'IS', 'IE', 'IT', 'LV', 'LT', 'LU', 'MY', 'MT', 'MX', 'NL', 'NZ', 'NI', 'NO', 'PA', 'PY', 'PE', 'PH', 'PL', 'PT', 'SG', 'SK', 'ES', 'SE', 'CH', 'TW', 'TR', 'UY', 'US', 'GB', 'AD', 'LI', 'MC', 'ID', 'JP', 'TH', 'VN', 'RO', 'IL', 'ZA', 'SA', 'AE', 'BH', 'QA', 'OM', 'KW', 'EG', 'MA', 'DZ', 'TN', 'LB', 'JO', 'PS', 'IN', 'BY', 'KZ', 'MD', 'UA', 'AL', 'BA', 'HR', 'ME', 'MK', 'RS', 'SI', 'KR', 'BD', 'PK', 'LK', 'GH', 'KE', 'NG', 'TZ', 'UG', 'AG', 'AM', 'BS', 'BB', 'BZ', 'BT', 'BW', 'BF', 'CV', 'CW', 'DM', 'FJ', 'GM', 'GE', 'GD', 'GW', 'GY', 'HT', 'JM', 'KI', 'LS', 'LR', 'MW', 'MV', 'ML', 'MH', 'FM', 'NA', 'NR', 'NE', 'PW', 'PG', 'WS', 'SM', 'ST', 'SN', 'SC', 'SL', 'SB', 'KN', 'LC', 'VC', 'SR', 'TL', 'TO', 'TT', 'TV', 'VU', 'AZ', 'BN', 'BI', 'KH', 'CM', 'TD', 'KM', 'GQ', 'SZ', 'GA', 'GN', 'KG', 'LA', 'MO', 'MR', 'MN', 'NP', 'RW', 'TG', 'UZ', 'ZW', 'BJ', 'MG', 'MU', 'MZ', 'AO', 'CI', 'DJ', 'ZM', 'CD', 'CG', 'IQ', 'LY', 'TJ', 'VE', 'ET', 'XK'], 'disc_number': 1, 'duration_ms': 259492, 'episode': False, 'explicit': False, 'external_ids': {'isrc': 'JPG101900559'}, 'external_urls': {'spotify': 'https://open.spotify.com/track/3se9YurPfXqDzGsjURs3hZ'}, 'href': 'https://api.spotify.com/v1/tracks/3se9YurPfXqDzGsjURs3hZ', 'id': '3se9YurPfXqDzGsjURs3hZ', 'is_local': False, 'name': 'Bloody Mary Girl', 'popularity': 43, 'preview_url': 'https://p.scdn.co/mp3-preview/77fdc36250e6a11f539359a38105b1da8c04e9a4?cid=94f249f09c6a4dd7ba46840cb0444f69', 'track': True, 'track_number': 7, 'type': 'track', 'uri': 'spotify:track:3se9YurPfXqDzGsjURs3hZ'}, 'video_thumbnail': {'url': None}}, {'added_at': '2023-11-29T05:56:57Z', 'added_by': {'external_urls': {'spotify': 'https://open.spotify.com/user/31eos6jlmxudolkpw2gmo5ztjgjy'}, 'href': 'https://api.spotify.com/v1/users/31eos6jlmxudolkpw2gmo5ztjgjy', 'id': '31eos6jlmxudolkpw2gmo5ztjgjy', 'type': 'user', 'uri': 'spotify:user:31eos6jlmxudolkpw2gmo5ztjgjy'}, 'is_local': False, 'primary_color': None, 'track': {'album': {'album_type': 'single', 'artists': [{'external_urls': {'spotify': 'https://open.spotify.com/artist/3Th9UyipOGp08husDe0Era'}, 'href': 'https://api.spotify.com/v1/artists/3Th9UyipOGp08husDe0Era', 'id': '3Th9UyipOGp08husDe0Era', 'name': 'She Her Her Hers', 'type': 'artist', 'uri': 'spotify:artist:3Th9UyipOGp08husDe0Era'}], 'available_markets': ['AR', 'AU', 'AT', 'BE', 'BO', 'BR', 'BG', 'CA', 'CL', 'CO', 'CR', 'CY', 'CZ', 'DK', 'DO', 'DE', 'EC', 'EE', 'SV', 'FI', 'FR', 'GR', 'GT', 'HN', 'HK', 'HU', 'IS', 'IE', 'IT', 'LV', 'LT', 'LU', 'MY', 'MT', 'MX', 'NL', 'NZ', 'NI', 'NO', 'PA', 'PY', 'PE', 'PH', 'PL', 'PT', 'SG', 'SK', 'ES', 'SE', 'CH', 'TW', 'TR', 'UY', 'US', 'GB', 'AD', 'LI', 'MC', 'ID', 'JP', 'TH', 'VN', 'RO', 'IL', 'ZA', 'SA', 'AE', 'BH', 'QA', 'OM', 'KW', 'EG', 'MA', 'DZ', 'TN', 'LB', 'JO', 'PS', 'IN', 'BY', 'KZ', 'MD', 'UA', 'AL', 'BA', 'HR', 'ME', 'MK', 'RS', 'SI', 'KR', 'BD', 'PK', 'LK', 'GH', 'KE', 'NG', 'TZ', 'UG', 'AG', 'AM', 'BS', 'BB', 'BZ', 'BT', 'BW', 'BF', 'CV', 'CW', 'DM', 'FJ', 'GM', 'GE', 'GD', 'GW', 'GY', 'HT', 'JM', 'KI', 'LS', 'LR', 'MW', 'MV', 'ML', 'MH', 'FM', 'NA', 'NR', 'NE', 'PW', 'PG', 'WS', 'SM', 'ST', 'SN', 'SC', 'SL', 'SB', 'KN', 'LC', 'VC', 'SR', 'TL', 'TO', 'TT', 'TV', 'VU', 'AZ', 'BN', 'BI', 'KH', 'CM', 'TD', 'KM', 'GQ', 'SZ', 'GA', 'GN', 'KG', 'LA', 'MO', 'MR', 'MN', 'NP', 'RW', 'TG', 'UZ', 'ZW', 'BJ', 'MG', 'MU', 'MZ', 'AO', 'CI', 'DJ', 'ZM', 'CD', 'CG', 'IQ', 'LY', 'TJ', 'VE', 'ET', 'XK'], 'external_urls': {'spotify': 'https://open.spotify.com/album/2zl3Xl7U5DRbIBfvtgtvvR'}, 'href': 'https://api.spotify.com/v1/albums/2zl3Xl7U5DRbIBfvtgtvvR', 'id': '2zl3Xl7U5DRbIBfvtgtvvR', 'images': [{'height': 640, 'url': 'https://i.scdn.co/image/ab67616d0000b2733e28ba1d37cb66c9b2b374ce', 'width': 640}, {'height': 300, 'url': 'https://i.scdn.co/image/ab67616d00001e023e28ba1d37cb66c9b2b374ce', 'width': 300}, {'height': 64, 'url': 'https://i.scdn.co/image/ab67616d000048513e28ba1d37cb66c9b2b374ce', 'width': 64}], 'name': 's', 'release_date': '2020-04-29', 'release_date_precision': 'day', 'total_tracks': 1, 'type': 'album', 'uri': 'spotify:album:2zl3Xl7U5DRbIBfvtgtvvR'}, 'artists': [{'external_urls': {'spotify': 'https://open.spotify.com/artist/3Th9UyipOGp08husDe0Era'}, 'href': 'https://api.spotify.com/v1/artists/3Th9UyipOGp08husDe0Era', 'id': '3Th9UyipOGp08husDe0Era', 'name': 'She Her Her Hers', 'type': 'artist', 'uri': 'spotify:artist:3Th9UyipOGp08husDe0Era'}], 'available_markets': ['AR', 'AU', 'AT', 'BE', 'BO', 'BR', 'BG', 'CA', 'CL', 'CO', 'CR', 'CY', 'CZ', 'DK', 'DO', 'DE', 'EC', 'EE', 'SV', 'FI', 'FR', 'GR', 'GT', 'HN', 'HK', 'HU', 'IS', 'IE', 'IT', 'LV', 'LT', 'LU', 'MY', 'MT', 'MX', 'NL', 'NZ', 'NI', 'NO', 'PA', 'PY', 'PE', 'PH', 'PL', 'PT', 'SG', 'SK', 'ES', 'SE', 'CH', 'TW', 'TR', 'UY', 'US', 'GB', 'AD', 'LI', 'MC', 'ID', 'JP', 'TH', 'VN', 'RO', 'IL', 'ZA', 'SA', 'AE', 'BH', 'QA', 'OM', 'KW', 'EG', 'MA', 'DZ', 'TN', 'LB', 'JO', 'PS', 'IN', 'BY', 'KZ', 'MD', 'UA', 'AL', 'BA', 'HR', 'ME', 'MK', 'RS', 'SI', 'KR', 'BD', 'PK', 'LK', 'GH', 'KE', 'NG', 'TZ', 'UG', 'AG', 'AM', 'BS', 'BB', 'BZ', 'BT', 'BW', 'BF', 'CV', 'CW', 'DM', 'FJ', 'GM', 'GE', 'GD', 'GW', 'GY', 'HT', 'JM', 'KI', 'LS', 'LR', 'MW', 'MV', 'ML', 'MH', 'FM', 'NA', 'NR', 'NE', 'PW', 'PG', 'WS', 'SM', 'ST', 'SN', 'SC', 'SL', 'SB', 'KN', 'LC', 'VC', 'SR', 'TL', 'TO', 'TT', 'TV', 'VU', 'AZ', 'BN', 'BI', 'KH', 'CM', 'TD', 'KM', 'GQ', 'SZ', 'GA', 'GN', 'KG', 'LA', 'MO', 'MR', 'MN', 'NP', 'RW', 'TG', 'UZ', 'ZW', 'BJ', 'MG', 'MU', 'MZ', 'AO', 'CI', 'DJ', 'ZM', 'CD', 'CG', 'IQ', 'LY', 'TJ', 'VE', 'ET', 'XK'], 'disc_number': 1, 'duration_ms': 252368, 'episode': False, 'explicit': False, 'external_ids': {'isrc': 'JPG102000317'}, 'external_urls': {'spotify': 'https://open.spotify.com/track/2tECperLKmLK4fNztizIqy'}, 'href': 'https://api.spotify.com/v1/tracks/2tECperLKmLK4fNztizIqy', 'id': '2tECperLKmLK4fNztizIqy', 'is_local': False, 'name': 's', 'popularity': 41, 'preview_url': 'https://p.scdn.co/mp3-preview/8c865ef104163a3e5f1fe74f437575d24978bc63?cid=94f249f09c6a4dd7ba46840cb0444f69', 'track': True, 'track_number': 1, 'type': 'track', 'uri': 'spotify:track:2tECperLKmLK4fNztizIqy'}, 'video_thumbnail': {'url': None}}, {'added_at': '2023-11-29T06:13:24Z', 'added_by': {'external_urls': {'spotify': 'https://open.spotify.com/user/31eos6jlmxudolkpw2gmo5ztjgjy'}, 'href': 'https://api.spotify.com/v1/users/31eos6jlmxudolkpw2gmo5ztjgjy', 'id': '31eos6jlmxudolkpw2gmo5ztjgjy', 'type': 'user', 'uri': 'spotify:user:31eos6jlmxudolkpw2gmo5ztjgjy'}, 'is_local': False, 'primary_color': None, 'track': {'album': {'album_type': 'album', 'artists': [{'external_urls': {'spotify': 'https://open.spotify.com/artist/4AQrqVz6BYwy29iMxcGtx7'}, 'href': 'https://api.spotify.com/v1/artists/4AQrqVz6BYwy29iMxcGtx7', 'id': '4AQrqVz6BYwy29iMxcGtx7', 'name': 'Roosevelt', 'type': 'artist', 'uri': 'spotify:artist:4AQrqVz6BYwy29iMxcGtx7'}], 'available_markets': ['AU', 'BO', 'CO', 'DO', 'GT', 'HK', 'IE', 'MY', 'MX', 'NL', 'NZ', 'NI', 'PH', 'SG', 'TW', 'GB', 'ID', 'JP', 'TH', 'VN', 'ZA', 'SA', 'AE', 'BH', 'QA', 'OM', 'KW', 'EG', 'MA', 'DZ', 'TN', 'LB', 'JO', 'PS', 'IN', 'KZ', 'KR', 'BD', 'PK', 'LK', 'GH', 'KE', 'NG', 'TZ', 'UG', 'AG', 'AM', 'BS', 'BB', 'BT', 'BW', 'BF', 'CV', 'CW', 'DM', 'FJ', 'GM', 'GE', 'GD', 'GW', 'HT', 'JM', 'KI', 'LS', 'LR', 'MW', 'MV', 'ML', 'MH', 'FM', 'NA', 'NR', 'NE', 'PW', 'PG', 'WS', 'ST', 'SN', 'SC', 'SL', 'SB', 'KN', 'LC', 'VC', 'SR', 'TL', 'TO', 'TV', 'VU', 'AZ', 'BN', 'BI', 'KH', 'CM', 'TD', 'KM', 'GQ', 'SZ', 'GA', 'GN', 'KG', 'LA', 'MO', 'MR', 'MN', 'NP', 'RW', 'TG', 'UZ', 'ZW', 'BJ', 'MG', 'MU', 'MZ', 'AO', 'CI', 'DJ', 'ZM', 'CD', 'CG', 'IQ', 'LY', 'TJ', 'ET'], 'external_urls': {'spotify': 'https://open.spotify.com/album/6oRdKgJrTM7mNHNhCZZYs6'}, 'href': 'https://api.spotify.com/v1/albums/6oRdKgJrTM7mNHNhCZZYs6', 'id': '6oRdKgJrTM7mNHNhCZZYs6', 'images': [{'height': 640, 'url': 'https://i.scdn.co/image/ab67616d0000b273b51228c63368f2564757b9af', 'width': 640}, {'height': 300, 'url': 'https://i.scdn.co/image/ab67616d00001e02b51228c63368f2564757b9af', 'width': 300}, {'height': 64, 'url': 'https://i.scdn.co/image/ab67616d00004851b51228c63368f2564757b9af', 'width': 64}], 'name': 'Polydans', 'release_date': '2021-02-26', 'release_date_precision': 'day', 'total_tracks': 10, 'type': 'album', 'uri': 'spotify:album:6oRdKgJrTM7mNHNhCZZYs6'}, 'artists': [{'external_urls': {'spotify': 'https://open.spotify.com/artist/4AQrqVz6BYwy29iMxcGtx7'}, 'href': 'https://api.spotify.com/v1/artists/4AQrqVz6BYwy29iMxcGtx7', 'id': '4AQrqVz6BYwy29iMxcGtx7', 'name': 'Roosevelt', 'type': 'artist', 'uri': 'spotify:artist:4AQrqVz6BYwy29iMxcGtx7'}], 'available_markets': ['AU', 'BO', 'CO', 'DO', 'GT', 'HK', 'IE', 'MY', 'MX', 'NL', 'NZ', 'NI', 'PH', 'SG', 'TW', 'GB', 'ID', 'JP', 'TH', 'VN', 'ZA', 'SA', 'AE', 'BH', 'QA', 'OM', 'KW', 'EG', 'MA', 'DZ', 'TN', 'LB', 'JO', 'PS', 'IN', 'KZ', 'KR', 'BD', 'PK', 'LK', 'GH', 'KE', 'NG', 'TZ', 'UG', 'AG', 'AM', 'BS', 'BB', 'BT', 'BW', 'BF', 'CV', 'CW', 'DM', 'FJ', 'GM', 'GE', 'GD', 'GW', 'HT', 'JM', 'KI', 'LS', 'LR', 'MW', 'MV', 'ML', 'MH', 'FM', 'NA', 'NR', 'NE', 'PW', 'PG', 'WS', 'ST', 'SN', 'SC', 'SL', 'SB', 'KN', 'LC', 'VC', 'SR', 'TL', 'TO', 'TV', 'VU', 'AZ', 'BN', 'BI', 'KH', 'CM', 'TD', 'KM', 'GQ', 'SZ', 'GA', 'GN', 'KG', 'LA', 'MO', 'MR', 'MN', 'NP', 'RW', 'TG', 'UZ', 'ZW', 'BJ', 'MG', 'MU', 'MZ', 'AO', 'CI', 'DJ', 'ZM', 'CD', 'CG', 'IQ', 'LY', 'TJ', 'ET'], 'disc_number': 1, 'duration_ms': 262798, 'episode': False, 'explicit': False, 'external_ids': {'isrc': 'GBRTB2000053'}, 'external_urls': {'spotify': 'https://open.spotify.com/track/26gAJmT5PipdLamyFMy7c8'}, 'href': 'https://api.spotify.com/v1/tracks/26gAJmT5PipdLamyFMy7c8', 'id': '26gAJmT5PipdLamyFMy7c8', 'is_local': False, 'name': 'See You Again', 'popularity': 35, 'preview_url': 'https://p.scdn.co/mp3-preview/f01453a1ecda4e9ffe595b4ed39d247563e1c611?cid=94f249f09c6a4dd7ba46840cb0444f69', 'track': True, 'track_number': 7, 'type': 'track', 'uri': 'spotify:track:26gAJmT5PipdLamyFMy7c8'}, 'video_thumbnail': {'url': None}}, {'added_at': '2023-11-29T06:14:38Z', 'added_by': {'external_urls': {'spotify': 'https://open.spotify.com/user/31eos6jlmxudolkpw2gmo5ztjgjy'}, 'href': 'https://api.spotify.com/v1/users/31eos6jlmxudolkpw2gmo5ztjgjy', 'id': '31eos6jlmxudolkpw2gmo5ztjgjy', 'type': 'user', 'uri': 'spotify:user:31eos6jlmxudolkpw2gmo5ztjgjy'}, 'is_local': False, 'primary_color': None, 'track': {'album': {'album_type': 'album', 'artists': [{'external_urls': {'spotify': 'https://open.spotify.com/artist/4AQrqVz6BYwy29iMxcGtx7'}, 'href': 'https://api.spotify.com/v1/artists/4AQrqVz6BYwy29iMxcGtx7', 'id': '4AQrqVz6BYwy29iMxcGtx7', 'name': 'Roosevelt', 'type': 'artist', 'uri': 'spotify:artist:4AQrqVz6BYwy29iMxcGtx7'}], 'available_markets': ['AU', 'BO', 'CO', 'DO', 'GT', 'HK', 'IE', 'MY', 'NZ', 'NI', 'PH', 'SG', 'TW', 'GB', 'ID', 'JP', 'TH', 'VN', 'ZA', 'SA', 'AE', 'BH', 'QA', 'OM', 'KW', 'EG', 'MA', 'DZ', 'TN', 'LB', 'JO', 'PS', 'IN', 'KZ', 'KR', 'BD', 'PK', 'LK', 'GH', 'KE', 'NG', 'TZ', 'UG', 'AG', 'AM', 'BS', 'BB', 'BT', 'BW', 'BF', 'CV', 'DM', 'FJ', 'GM', 'GE', 'GD', 'GW', 'HT', 'JM', 'KI', 'LS', 'LR', 'MW', 'MV', 'ML', 'MH', 'FM', 'NA', 'NR', 'NE', 'PW', 'PG', 'WS', 'ST', 'SN', 'SC', 'SL', 'SB', 'KN', 'LC', 'VC', 'SR', 'TL', 'TO', 'TV', 'VU', 'AZ', 'BN', 'BI', 'KH', 'CM', 'TD', 'KM', 'GQ', 'SZ', 'GA', 'GN', 'KG', 'LA', 'MO', 'MR', 'MN', 'NP', 'RW', 'TG', 'UZ', 'ZW', 'BJ', 'MG', 'MU', 'MZ', 'AO', 'CI', 'DJ', 'ZM', 'CD', 'CG', 'IQ', 'LY', 'TJ', 'ET'], 'external_urls': {'spotify': 'https://open.spotify.com/album/7MDGhmH0opFzbiAHgmBYUs'}, 'href': 'https://api.spotify.com/v1/albums/7MDGhmH0opFzbiAHgmBYUs', 'id': '7MDGhmH0opFzbiAHgmBYUs', 'images': [{'height': 640, 'url': 'https://i.scdn.co/image/ab67616d0000b273f645e7561103415985e7c8de', 'width': 640}, {'height': 300, 'url': 'https://i.scdn.co/image/ab67616d00001e02f645e7561103415985e7c8de', 'width': 300}, {'height': 64, 'url': 'https://i.scdn.co/image/ab67616d00004851f645e7561103415985e7c8de', 'width': 64}], 'name': 'Roosevelt', 'release_date': '2016-08-19', 'release_date_precision': 'day', 'total_tracks': 12, 'type': 'album', 'uri': 'spotify:album:7MDGhmH0opFzbiAHgmBYUs'}, 'artists': [{'external_urls': {'spotify': 'https://open.spotify.com/artist/4AQrqVz6BYwy29iMxcGtx7'}, 'href': 'https://api.spotify.com/v1/artists/4AQrqVz6BYwy29iMxcGtx7', 'id': '4AQrqVz6BYwy29iMxcGtx7', 'name': 'Roosevelt', 'type': 'artist', 'uri': 'spotify:artist:4AQrqVz6BYwy29iMxcGtx7'}], 'available_markets': ['AU', 'BO', 'CO', 'DO', 'GT', 'HK', 'IE', 'MY', 'NZ', 'NI', 'PH', 'SG', 'TW', 'GB', 'ID', 'JP', 'TH', 'VN', 'ZA', 'SA', 'AE', 'BH', 'QA', 'OM', 'KW', 'EG', 'MA', 'DZ', 'TN', 'LB', 'JO', 'PS', 'IN', 'KZ', 'KR', 'BD', 'PK', 'LK', 'GH', 'KE', 'NG', 'TZ', 'UG', 'AG', 'AM', 'BS', 'BB', 'BT', 'BW', 'BF', 'CV', 'DM', 'FJ', 'GM', 'GE', 'GD', 'GW', 'HT', 'JM', 'KI', 'LS', 'LR', 'MW', 'MV', 'ML', 'MH', 'FM', 'NA', 'NR', 'NE', 'PW', 'PG', 'WS', 'ST', 'SN', 'SC', 'SL', 'SB', 'KN', 'LC', 'VC', 'SR', 'TL', 'TO', 'TV', 'VU', 'AZ', 'BN', 'BI', 'KH', 'CM', 'TD', 'KM', 'GQ', 'SZ', 'GA', 'GN', 'KG', 'LA', 'MO', 'MR', 'MN', 'NP', 'RW', 'TG', 'UZ', 'ZW', 'BJ', 'MG', 'MU', 'MZ', 'AO', 'CI', 'DJ', 'ZM', 'CD', 'CG', 'IQ', 'LY', 'TJ', 'ET'], 'disc_number': 1, 'duration_ms': 283007, 'episode': False, 'explicit': False, 'external_ids': {'isrc': 'GBRTB1600009'}, 'external_urls': {'spotify': 'https://open.spotify.com/track/32fMAO0R37xtjlE7Yo7253'}, 'href': 'https://api.spotify.com/v1/tracks/32fMAO0R37xtjlE7Yo7253', 'id': '32fMAO0R37xtjlE7Yo7253', 'is_local': False, 'name': 'Moving On', 'popularity': 40, 'preview_url': 'https://p.scdn.co/mp3-preview/0a52211654fb30decdd71234da7583b0f7fe5c4e?cid=94f249f09c6a4dd7ba46840cb0444f69', 'track': True, 'track_number': 5, 'type': 'track', 'uri': 'spotify:track:32fMAO0R37xtjlE7Yo7253'}, 'video_thumbnail': {'url': None}}, {'added_at': '2023-11-29T06:14:45Z', 'added_by': {'external_urls': {'spotify': 'https://open.spotify.com/user/31eos6jlmxudolkpw2gmo5ztjgjy'}, 'href': 'https://api.spotify.com/v1/users/31eos6jlmxudolkpw2gmo5ztjgjy', 'id': '31eos6jlmxudolkpw2gmo5ztjgjy', 'type': 'user', 'uri': 'spotify:user:31eos6jlmxudolkpw2gmo5ztjgjy'}, 'is_local': False, 'primary_color': None, 'track': {'album': {'album_type': 'album', 'artists': [{'external_urls': {'spotify': 'https://open.spotify.com/artist/4AQrqVz6BYwy29iMxcGtx7'}, 'href': 'https://api.spotify.com/v1/artists/4AQrqVz6BYwy29iMxcGtx7', 'id': '4AQrqVz6BYwy29iMxcGtx7', 'name': 'Roosevelt', 'type': 'artist', 'uri': 'spotify:artist:4AQrqVz6BYwy29iMxcGtx7'}], 'available_markets': ['AU', 'BO', 'CO', 'DO', 'GT', 'HK', 'IE', 'MY', 'MX', 'NL', 'NZ', 'NI', 'PH', 'SG', 'TW', 'GB', 'ID', 'JP', 'TH', 'VN', 'ZA', 'SA', 'AE', 'BH', 'QA', 'OM', 'KW', 'EG', 'MA', 'DZ', 'TN', 'LB', 'JO', 'PS', 'IN', 'KZ', 'KR', 'BD', 'PK', 'LK', 'GH', 'KE', 'NG', 'TZ', 'UG', 'AG', 'AM', 'BS', 'BB', 'BT', 'BW', 'BF', 'CV', 'CW', 'DM', 'FJ', 'GM', 'GE', 'GD', 'GW', 'HT', 'JM', 'KI', 'LS', 'LR', 'MW', 'MV', 'ML', 'MH', 'FM', 'NA', 'NR', 'NE', 'PW', 'PG', 'WS', 'ST', 'SN', 'SC', 'SL', 'SB', 'KN', 'LC', 'VC', 'SR', 'TL', 'TO', 'TV', 'VU', 'AZ', 'BN', 'BI', 'KH', 'CM', 'TD', 'KM', 'GQ', 'SZ', 'GA', 'GN', 'KG', 'LA', 'MO', 'MR', 'MN', 'NP', 'RW', 'TG', 'UZ', 'ZW', 'BJ', 'MG', 'MU', 'MZ', 'AO', 'CI', 'DJ', 'ZM', 'CD', 'CG', 'IQ', 'LY', 'TJ', 'ET'], 'external_urls': {'spotify': 'https://open.spotify.com/album/6oRdKgJrTM7mNHNhCZZYs6'}, 'href': 'https://api.spotify.com/v1/albums/6oRdKgJrTM7mNHNhCZZYs6', 'id': '6oRdKgJrTM7mNHNhCZZYs6', 'images': [{'height': 640, 'url': 'https://i.scdn.co/image/ab67616d0000b273b51228c63368f2564757b9af', 'width': 640}, {'height': 300, 'url': 'https://i.scdn.co/image/ab67616d00001e02b51228c63368f2564757b9af', 'width': 300}, {'height': 64, 'url': 'https://i.scdn.co/image/ab67616d00004851b51228c63368f2564757b9af', 'width': 64}], 'name': 'Polydans', 'release_date': '2021-02-26', 'release_date_precision': 'day', 'total_tracks': 10, 'type': 'album', 'uri': 'spotify:album:6oRdKgJrTM7mNHNhCZZYs6'}, 'artists': [{'external_urls': {'spotify': 'https://open.spotify.com/artist/4AQrqVz6BYwy29iMxcGtx7'}, 'href': 'https://api.spotify.com/v1/artists/4AQrqVz6BYwy29iMxcGtx7', 'id': '4AQrqVz6BYwy29iMxcGtx7', 'name': 'Roosevelt', 'type': 'artist', 'uri': 'spotify:artist:4AQrqVz6BYwy29iMxcGtx7'}], 'available_markets': ['AU', 'BO', 'CO', 'DO', 'GT', 'HK', 'IE', 'MY', 'MX', 'NL', 'NZ', 'NI', 'PH', 'SG', 'TW', 'GB', 'ID', 'JP', 'TH', 'VN', 'ZA', 'SA', 'AE', 'BH', 'QA', 'OM', 'KW', 'EG', 'MA', 'DZ', 'TN', 'LB', 'JO', 'PS', 'IN', 'KZ', 'KR', 'BD', 'PK', 'LK', 'GH', 'KE', 'NG', 'TZ', 'UG', 'AG', 'AM', 'BS', 'BB', 'BT', 'BW', 'BF', 'CV', 'CW', 'DM', 'FJ', 'GM', 'GE', 'GD', 'GW', 'HT', 'JM', 'KI', 'LS', 'LR', 'MW', 'MV', 'ML', 'MH', 'FM', 'NA', 'NR', 'NE', 'PW', 'PG', 'WS', 'ST', 'SN', 'SC', 'SL', 'SB', 'KN', 'LC', 'VC', 'SR', 'TL', 'TO', 'TV', 'VU', 'AZ', 'BN', 'BI', 'KH', 'CM', 'TD', 'KM', 'GQ', 'SZ', 'GA', 'GN', 'KG', 'LA', 'MO', 'MR', 'MN', 'NP', 'RW', 'TG', 'UZ', 'ZW', 'BJ', 'MG', 'MU', 'MZ', 'AO', 'CI', 'DJ', 'ZM', 'CD', 'CG', 'IQ', 'LY', 'TJ', 'ET'], 'disc_number': 1, 'duration_ms': 220726, 'episode': False, 'explicit': False, 'external_ids': {'isrc': 'GBRTB2000048'}, 'external_urls': {'spotify': 'https://open.spotify.com/track/6cDWbP0Hn5kXwZlMtWysTK'}, 'href': 'https://api.spotify.com/v1/tracks/6cDWbP0Hn5kXwZlMtWysTK', 'id': '6cDWbP0Hn5kXwZlMtWysTK', 'is_local': False, 'name': 'Strangers', 'popularity': 48, 'preview_url': 'https://p.scdn.co/mp3-preview/af140205a6deff97b0c38796d274dc7e8868abe8?cid=94f249f09c6a4dd7ba46840cb0444f69', 'track': True, 'track_number': 2, 'type': 'track', 'uri': 'spotify:track:6cDWbP0Hn5kXwZlMtWysTK'}, 'video_thumbnail': {'url': None}}], 'limit': 100, 'next': None, 'offset': 0, 'previous': None, 'total': 5}, 'type': 'playlist', 'uri': 'spotify:playlist:5G78gthDYxAopN65suV5c3'}\n"
     ]
    }
   ],
   "source": [
    "result = sp.playlist('5G78gthDYxAopN65suV5c3')\n",
    "print(result)"
   ]
  },
  {
   "cell_type": "code",
   "execution_count": 17,
   "id": "426dbb0b-e05d-49b0-b1e5-a73ba10a958b",
   "metadata": {},
   "outputs": [
    {
     "name": "stdout",
     "output_type": "stream",
     "text": [
      "cowboy-bebop\n",
      "cowboy-bebop-tengoku-no-tobira\n",
      "trigun\n",
      "witch-hunter-robin\n",
      "beet-the-vandel-buster\n"
     ]
    }
   ],
   "source": [
    "anime_name = ['cowboy-bebop','cowboy-bebop-tengoku-no-tobira','trigun','witch-hunter-robin','beet-the-vandel-buster']\n",
    "song_name = ['Bloody_Mary_Girl','S','See_You_Again','Moving_On','Strangers']\n",
    "\n",
    "len_of_anime = len(anime_data['data'])\n",
    "for i in range(len_of_anime):\n",
    "    print(anime_data['data'][i]['attributes']['slug'])\n",
    "    anime_name.append(anime_data['data'][i]['attributes']['slug'])"
   ]
  },
  {
   "cell_type": "code",
   "execution_count": 18,
   "id": "44a7e47d-853a-491e-8c07-2521c8fb5b62",
   "metadata": {
    "scrolled": true
   },
   "outputs": [
    {
     "name": "stdout",
     "output_type": "stream",
     "text": [
      "https://open.spotify.com/track/3se9YurPfXqDzGsjURs3hZ\n",
      "https://open.spotify.com/track/2tECperLKmLK4fNztizIqy\n",
      "https://open.spotify.com/track/26gAJmT5PipdLamyFMy7c8\n",
      "https://open.spotify.com/track/32fMAO0R37xtjlE7Yo7253\n",
      "https://open.spotify.com/track/6cDWbP0Hn5kXwZlMtWysTK\n"
     ]
    }
   ],
   "source": [
    "result = sp.playlist('5G78gthDYxAopN65suV5c3')\n",
    "print(result['tracks']['items'][0]['track']['external_urls']['spotify'])\n",
    "print(result['tracks']['items'][1]['track']['external_urls']['spotify'])\n",
    "print(result['tracks']['items'][2]['track']['external_urls']['spotify'])\n",
    "print(result['tracks']['items'][3]['track']['external_urls']['spotify'])\n",
    "print(result['tracks']['items'][4]['track']['external_urls']['spotify'])"
   ]
  },
  {
   "cell_type": "code",
   "execution_count": 19,
   "id": "bbec3927-f66b-46f6-8219-f20da0743bdd",
   "metadata": {},
   "outputs": [
    {
     "name": "stdout",
     "output_type": "stream",
     "text": [
      "https://open.spotify.com/track/3se9YurPfXqDzGsjURs3hZ\n",
      "https://open.spotify.com/track/3se9YurPfXqDzGsjURs3hZ\n",
      "https://open.spotify.com/track/3se9YurPfXqDzGsjURs3hZ\n",
      "https://open.spotify.com/track/3se9YurPfXqDzGsjURs3hZ\n",
      "https://open.spotify.com/track/3se9YurPfXqDzGsjURs3hZ\n"
     ]
    }
   ],
   "source": [
    "for i in range(5):\n",
    "    print(result['tracks']['items'][0]['track']['external_urls']['spotify'])\n",
    "    song_name.append(result['tracks']['items'][i]['track']['external_urls']['spotify'])"
   ]
  },
  {
   "cell_type": "code",
   "execution_count": 20,
   "id": "74f893b5-9b71-4d73-9ccd-2aaf65a3b674",
   "metadata": {},
   "outputs": [],
   "source": [
    "anime_song_dict = {}\n",
    "for i in range(len(anime_name)):\n",
    "    anime_song_dict[anime_name[i]] = song_name[i]"
   ]
  },
  {
   "cell_type": "code",
   "execution_count": 21,
   "id": "3aa196db-f142-4bd0-a4d0-ad4b39df341d",
   "metadata": {},
   "outputs": [
    {
     "name": "stdin",
     "output_type": "stream",
     "text": [
      "Type anime name:  cowboy-bebop\n"
     ]
    }
   ],
   "source": [
    "inp_anime = input(\"Type anime name: \")\n",
    "\n",
    "song_url = anime_song_dict[inp_anime]"
   ]
  },
  {
   "cell_type": "code",
   "execution_count": 23,
   "id": "9b58926d-ba56-4380-819e-7334c88a05f0",
   "metadata": {},
   "outputs": [
    {
     "data": {
      "text/plain": [
       "True"
      ]
     },
     "execution_count": 23,
     "metadata": {},
     "output_type": "execute_result"
    }
   ],
   "source": [
    "webbrowser.open_new_tab(song_url)"
   ]
  },
  {
   "cell_type": "code",
   "execution_count": null,
   "id": "73107402-ba51-4fe6-b8cd-58b8ba857206",
   "metadata": {},
   "outputs": [],
   "source": []
  }
 ],
 "metadata": {
  "kernelspec": {
   "display_name": "Python 3 (ipykernel)",
   "language": "python",
   "name": "python3"
  },
  "language_info": {
   "codemirror_mode": {
    "name": "ipython",
    "version": 3
   },
   "file_extension": ".py",
   "mimetype": "text/x-python",
   "name": "python",
   "nbconvert_exporter": "python",
   "pygments_lexer": "ipython3",
   "version": "3.12.0"
  }
 },
 "nbformat": 4,
 "nbformat_minor": 5
}
